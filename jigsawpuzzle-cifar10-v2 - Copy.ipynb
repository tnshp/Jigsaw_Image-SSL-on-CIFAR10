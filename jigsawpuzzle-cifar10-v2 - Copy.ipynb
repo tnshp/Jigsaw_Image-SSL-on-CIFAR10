{
 "cells": [
  {
   "cell_type": "code",
   "execution_count": 1,
   "metadata": {
    "execution": {
     "iopub.execute_input": "2024-01-03T13:57:53.534792Z",
     "iopub.status.busy": "2024-01-03T13:57:53.534152Z",
     "iopub.status.idle": "2024-01-03T13:57:58.962592Z",
     "shell.execute_reply": "2024-01-03T13:57:58.961622Z",
     "shell.execute_reply.started": "2024-01-03T13:57:53.534762Z"
    }
   },
   "outputs": [
    {
     "name": "stderr",
     "output_type": "stream",
     "text": [
      "C:\\Users\\Admin\\.conda\\envs\\neural_ODE\\lib\\site-packages\\tqdm\\auto.py:21: TqdmWarning: IProgress not found. Please update jupyter and ipywidgets. See https://ipywidgets.readthedocs.io/en/stable/user_install.html\n",
      "  from .autonotebook import tqdm as notebook_tqdm\n"
     ]
    }
   ],
   "source": [
    "import numpy as np # linear algebra\n",
    "import pandas as pd # data processing, CSV file I/O (e.g. pd.read_csv)\n",
    "import os\n",
    "import torchvision\n",
    "import torch\n",
    "import timm\n",
    "import random\n",
    "from PIL import Image\n",
    "from IPython.display import display\n"
   ]
  },
  {
   "cell_type": "code",
   "execution_count": 2,
   "metadata": {
    "execution": {
     "iopub.execute_input": "2024-01-03T14:09:36.595380Z",
     "iopub.status.busy": "2024-01-03T14:09:36.595017Z",
     "iopub.status.idle": "2024-01-03T14:09:36.602208Z",
     "shell.execute_reply": "2024-01-03T14:09:36.601110Z",
     "shell.execute_reply.started": "2024-01-03T14:09:36.595350Z"
    }
   },
   "outputs": [
    {
     "data": {
      "text/plain": [
       "device(type='cuda', index=0)"
      ]
     },
     "execution_count": 2,
     "metadata": {},
     "output_type": "execute_result"
    }
   ],
   "source": [
    "\n",
    "device = torch.device(\"cuda:0\" if torch.cuda.is_available() else \"cpu\")\n",
    "device"
   ]
  },
  {
   "cell_type": "code",
   "execution_count": 3,
   "metadata": {
    "execution": {
     "iopub.execute_input": "2024-01-03T14:09:38.125207Z",
     "iopub.status.busy": "2024-01-03T14:09:38.124847Z",
     "iopub.status.idle": "2024-01-03T14:09:38.131575Z",
     "shell.execute_reply": "2024-01-03T14:09:38.130773Z",
     "shell.execute_reply.started": "2024-01-03T14:09:38.125179Z"
    }
   },
   "outputs": [
    {
     "data": {
      "text/plain": [
       "'.\\\\saved_cfn.pth'"
      ]
     },
     "execution_count": 3,
     "metadata": {},
     "output_type": "execute_result"
    }
   ],
   "source": [
    "PATH = os.curdir\n",
    "\n",
    "cfn_file = os.path.join(PATH, 'saved_cfn.pth')\n",
    "conv_file = os.path.join(PATH,'saved_conv2.pth')\n",
    "jigsaw_model_file = os.path.join(PATH, 'saved_jigsaw_model.pth')\n",
    "permuts_file = os.path.join(PATH, 'permuts.npy')\n",
    "\n",
    "cfn_file"
   ]
  },
  {
   "cell_type": "code",
   "execution_count": 4,
   "metadata": {
    "execution": {
     "iopub.execute_input": "2024-01-03T14:09:39.204583Z",
     "iopub.status.busy": "2024-01-03T14:09:39.203686Z",
     "iopub.status.idle": "2024-01-03T14:09:40.816181Z",
     "shell.execute_reply": "2024-01-03T14:09:40.815233Z",
     "shell.execute_reply.started": "2024-01-03T14:09:39.204551Z"
    }
   },
   "outputs": [
    {
     "name": "stdout",
     "output_type": "stream",
     "text": [
      "Files already downloaded and verified\n",
      "Files already downloaded and verified\n"
     ]
    }
   ],
   "source": [
    "from torch.utils.data import ConcatDataset, DataLoader, Dataset, random_split\n",
    "from torchvision import datasets, transforms\n",
    "\n",
    "\n",
    "Image_dataset = torchvision.datasets.CIFAR10(\n",
    "    root='./data', train=True, download=True)\n",
    "\n",
    "test_set = torchvision.datasets.CIFAR10(\n",
    "    root='./data', train=False, download=True)\n",
    "\n",
    "Image_dataset =  ConcatDataset([Image_dataset, test_set])\n",
    "\n",
    "train_dataset, pretrain_dataset, test_dataset = random_split(Image_dataset, [0.05, 0.45, 0.5])"
   ]
  },
  {
   "cell_type": "code",
   "execution_count": 5,
   "metadata": {
    "execution": {
     "iopub.execute_input": "2024-01-03T14:09:42.104507Z",
     "iopub.status.busy": "2024-01-03T14:09:42.103755Z",
     "iopub.status.idle": "2024-01-03T14:09:42.113367Z",
     "shell.execute_reply": "2024-01-03T14:09:42.112239Z",
     "shell.execute_reply.started": "2024-01-03T14:09:42.104476Z"
    }
   },
   "outputs": [
    {
     "data": {
      "image/png": "[encoded data removed]",
      "text/plain": [
       "<PIL.Image.Image image mode=RGB size=32x32>"
      ]
     },
     "metadata": {},
     "output_type": "display_data"
    },
    {
     "data": {
      "text/plain": [
       "3"
      ]
     },
     "execution_count": 5,
     "metadata": {},
     "output_type": "execute_result"
    }
   ],
   "source": [
    "img, label = pretrain_dataset.__getitem__(0)\n",
    "#img = img.resize((256,256))\n",
    "display(img)\n",
    "label"
   ]
  },
  {
   "cell_type": "code",
   "execution_count": 6,
   "metadata": {
    "execution": {
     "iopub.execute_input": "2024-01-03T14:09:45.437449Z",
     "iopub.status.busy": "2024-01-03T14:09:45.436673Z",
     "iopub.status.idle": "2024-01-03T14:09:45.451534Z",
     "shell.execute_reply": "2024-01-03T14:09:45.450449Z",
     "shell.execute_reply.started": "2024-01-03T14:09:45.437419Z"
    }
   },
   "outputs": [],
   "source": [
    "#defining some functions\n",
    "def get_nine_crops(pil_image):\n",
    "    \"\"\"\n",
    "    https://github.com/aniket03/self_supervised_bird_classification/blob/master/get_dataset.py\n",
    "    \n",
    "    Get nine crops for a square pillow image. That is height and width of the image should be same.\n",
    "    :param pil_image: pillow image\n",
    "    :return: List of pillow images. The nine crops\n",
    "    \"\"\"\n",
    "    w, h = pil_image.size\n",
    "    diff = int(w/3)\n",
    "\n",
    "    r_vals = [0, diff, 2 * diff]\n",
    "    c_vals = [0, diff, 2 * diff]\n",
    "\n",
    "    list_patches = []\n",
    "\n",
    "    for r in r_vals:\n",
    "        for c in c_vals:\n",
    "\n",
    "            left = c\n",
    "            top = r\n",
    "            right = c + diff\n",
    "            bottom = r + diff\n",
    "\n",
    "            patch = pil_image.crop((left, top, right, bottom))\n",
    "            list_patches.append(patch)\n",
    "\n",
    "    return list_patches\n",
    "\n",
    "def rearrange(nine_crop, permut):\n",
    "    X= nine_crop\n",
    "    Y= permut\n",
    "    sorted_indices = sorted(range(len(Y)), key=lambda k: Y[k])\n",
    "    reordered_crops = [X[i] for i in sorted_indices]\n",
    "    return reordered_crops\n",
    "\n",
    "def generate_permuts(array_len = 9, permuts_to_take= 64):\n",
    "    \n",
    "    #https://github.com/aniket03/self_supervised_bird_classification/blob/master/get_top_x_permutations.py\n",
    "    import itertools\n",
    "    import random\n",
    "    import numpy as np\n",
    "\n",
    "    from scipy.spatial.distance import hamming\n",
    "\n",
    "\n",
    "    # Build list of all possible permutations\n",
    "    permuts_list = list(itertools.permutations(range(array_len)))\n",
    "    permuts_array = np.array(permuts_list)\n",
    "    no_permuts = len(permuts_list)\n",
    "\n",
    "\n",
    "    # Take top x permutations which have max average hamming distance\n",
    "    set_of_taken = set()\n",
    "    cnt_iterations = 0\n",
    "    while True:\n",
    "        cnt_iterations += 1\n",
    "        x = random.randint(1, no_permuts - 1)\n",
    "        y = random.randint(1, no_permuts - 1)\n",
    "        permut_1 = permuts_array[x]\n",
    "        permut_2 = permuts_array[y]\n",
    "        hd = hamming(permut_1, permut_2)\n",
    "\n",
    "        if hd > 0.9 and (not x in set_of_taken) and (not y in set_of_taken):\n",
    "            set_of_taken.add(x)\n",
    "            set_of_taken.add(y)\n",
    "\n",
    "            if len(set_of_taken) == permuts_to_take:\n",
    "                break\n",
    "\n",
    "        if cnt_iterations % 100 == 0:\n",
    "            print (\"Already performed count of iterations with pairs of jigsaw permutations\", cnt_iterations)\n",
    "            print (\"Length of set of taken: \",len(set_of_taken))\n",
    "\n",
    "    print (\"No of iterations it took to build top - {} permutations array = {}\".format(permuts_to_take, cnt_iterations))\n",
    "    print (\"No of permutations\", len(set_of_taken))\n",
    "\n",
    "\n",
    "    # Build the array for selected permutation indices above\n",
    "    selected_permuts = []\n",
    "    for ind, perm_id in enumerate(set_of_taken):\n",
    "#         if ind < 10:\n",
    "#             print (\"Sample permutation {}\".format(ind))\n",
    "#             print (permuts_array[perm_id])\n",
    "        selected_permuts.append(permuts_array[perm_id])\n",
    "\n",
    "    selected_permuts = np.array(selected_permuts)\n",
    "#     np.save('selected_permuts.npy', selected_permuts)\n",
    "\n",
    "    return selected_permuts"
   ]
  },
  {
   "cell_type": "code",
   "execution_count": 7,
   "metadata": {
    "execution": {
     "iopub.execute_input": "2024-01-03T14:09:46.804387Z",
     "iopub.status.busy": "2024-01-03T14:09:46.803611Z",
     "iopub.status.idle": "2024-01-03T14:09:47.336939Z",
     "shell.execute_reply": "2024-01-03T14:09:47.335977Z",
     "shell.execute_reply.started": "2024-01-03T14:09:46.804356Z"
    }
   },
   "outputs": [
    {
     "name": "stdout",
     "output_type": "stream",
     "text": [
      "No of iterations it took to build top - 64 permutations array = 95\n",
      "No of permutations 64\n"
     ]
    }
   ],
   "source": [
    "#generating 64 possible permuts\n",
    "nine_crops = get_nine_crops(img)\n",
    "permuts = generate_permuts()\n",
    "classes, _ = permuts.shape"
   ]
  },
  {
   "cell_type": "code",
   "execution_count": 8,
   "metadata": {},
   "outputs": [],
   "source": [
    "#saving and loading permuts\n",
    "np.save( permuts_file, permuts)\n",
    "permuts = np.load(permuts_file)"
   ]
  },
  {
   "cell_type": "code",
   "execution_count": 9,
   "metadata": {
    "execution": {
     "iopub.execute_input": "2024-01-03T14:09:48.229290Z",
     "iopub.status.busy": "2024-01-03T14:09:48.228905Z",
     "iopub.status.idle": "2024-01-03T14:09:48.567817Z",
     "shell.execute_reply": "2024-01-03T14:09:48.566299Z",
     "shell.execute_reply.started": "2024-01-03T14:09:48.229263Z"
    }
   },
   "outputs": [
    {
     "data": {
      "image/png": "[encoded data removed]",
      "text/plain": [
       "<Figure size 1000x1000 with 9 Axes>"
      ]
     },
     "metadata": {},
     "output_type": "display_data"
    }
   ],
   "source": [
    "#before shuffling\n",
    "\n",
    "from PIL import Image\n",
    "import matplotlib.pyplot as plt\n",
    "import numpy as np\n",
    "\n",
    "rows = 3\n",
    "cols = 3\n",
    "figsize=(10, 10)\n",
    "\n",
    "fig, axes = plt.subplots(rows, cols, figsize=figsize)\n",
    "\n",
    "for i in range(rows):\n",
    "    for j in range(cols):\n",
    "        ax = axes[i, j]\n",
    "        ax.axis(\"off\")\n",
    "\n",
    "        # Check if there are more images to display\n",
    "        index = i * cols + j\n",
    "        if index < len(nine_crops):\n",
    "            ax.imshow(np.asarray(nine_crops[index]))\n",
    "\n",
    "plt.show()\n"
   ]
  },
  {
   "cell_type": "code",
   "execution_count": 10,
   "metadata": {
    "execution": {
     "iopub.execute_input": "2024-01-03T14:09:49.415342Z",
     "iopub.status.busy": "2024-01-03T14:09:49.414976Z",
     "iopub.status.idle": "2024-01-03T14:09:49.759315Z",
     "shell.execute_reply": "2024-01-03T14:09:49.757847Z",
     "shell.execute_reply.started": "2024-01-03T14:09:49.415313Z"
    }
   },
   "outputs": [
    {
     "data": {
      "image/png": "[encoded data removed]",
      "text/plain": [
       "<Figure size 1000x1000 with 9 Axes>"
      ]
     },
     "metadata": {},
     "output_type": "display_data"
    }
   ],
   "source": [
    "#after shuffling\n",
    "nine_crops = rearrange(nine_crops, permuts[0])\n",
    "\n",
    "fig, axes = plt.subplots(rows, cols, figsize=figsize)\n",
    "\n",
    "for i in range(rows):\n",
    "    for j in range(cols):\n",
    "        ax = axes[i, j]\n",
    "        ax.axis(\"off\")\n",
    "\n",
    "        # Check if there are more images to display\n",
    "        index = i * cols + j\n",
    "        if index < len(nine_crops):\n",
    "            ax.imshow(np.asarray(nine_crops[index]))\n",
    "\n",
    "\n",
    "plt.show()\n"
   ]
  },
  {
   "cell_type": "markdown",
   "metadata": {},
   "source": [
    "# Pretraining"
   ]
  },
  {
   "cell_type": "code",
   "execution_count": 11,
   "metadata": {
    "execution": {
     "iopub.execute_input": "2024-01-03T14:09:52.068768Z",
     "iopub.status.busy": "2024-01-03T14:09:52.068014Z",
     "iopub.status.idle": "2024-01-03T14:09:52.077086Z",
     "shell.execute_reply": "2024-01-03T14:09:52.076110Z",
     "shell.execute_reply.started": "2024-01-03T14:09:52.068737Z"
    }
   },
   "outputs": [],
   "source": [
    "from torch.utils.data import Dataset, DataLoader\n",
    "from torchvision import transforms\n",
    "\n",
    "class JigsawDataset(Dataset):\n",
    "    def __init__(self, dataset, permuts, no_of_jigs):        \n",
    "        self.dataset = dataset\n",
    "        self.permuts = permuts\n",
    "        self.no_of_jigs = no_of_jigs \n",
    "\n",
    "    def __len__(self):\n",
    "        return self.dataset.__len__() * self.no_of_jigs # 69 average jigsaw per image (in paper)\n",
    "    \n",
    "    def __getitem__(self, index):\n",
    "        index = int(index / self.no_of_jigs)\n",
    "        img, _ = self.dataset.__getitem__(index)\n",
    "        \n",
    "        nine_crops = get_nine_crops(img)\n",
    "        \n",
    "        r = random.randint(0, len(permuts) -1 )\n",
    "        nine_crops = rearrange(nine_crops, permuts[r])\n",
    "        \n",
    "        transform = transforms.ToTensor()\n",
    "        \n",
    "        image_list = []\n",
    "        for i in range(9):\n",
    "            #print(transform(nine_crops[i]).shape)\n",
    "            #image_list = torch.concat((image_list, transform([nine_crops[i]])), dim = 0)\n",
    "            image_list.append(transform(nine_crops[i]))\n",
    "        \n",
    "        image_list = torch.stack(image_list, dim = 0)\n",
    "        return image_list, r\n",
    "    \n"
   ]
  },
  {
   "cell_type": "code",
   "execution_count": 12,
   "metadata": {
    "execution": {
     "iopub.execute_input": "2024-01-03T14:09:53.122532Z",
     "iopub.status.busy": "2024-01-03T14:09:53.122164Z",
     "iopub.status.idle": "2024-01-03T14:09:53.320891Z",
     "shell.execute_reply": "2024-01-03T14:09:53.319916Z",
     "shell.execute_reply.started": "2024-01-03T14:09:53.122504Z"
    }
   },
   "outputs": [],
   "source": [
    "Jig_Dataset =  JigsawDataset(pretrain_dataset, permuts, no_of_jigs= 20)\n",
    "# Jig_Dataset.__len__()\n",
    "#Jig_Dataset.__getitem__(2)\n",
    "\n",
    "pretrain_loader = DataLoader(Jig_Dataset, batch_size = 128, shuffle =True)\n",
    "\n",
    "# train_features, train_labels = next(iter(pretrain_loader))\n",
    "# print(len(train_features))\n"
   ]
  },
  {
   "cell_type": "markdown",
   "metadata": {},
   "source": [
    "### CFN Model"
   ]
  },
  {
   "cell_type": "code",
   "execution_count": 13,
   "metadata": {
    "execution": {
     "iopub.execute_input": "2024-01-03T14:28:09.472568Z",
     "iopub.status.busy": "2024-01-03T14:28:09.472182Z",
     "iopub.status.idle": "2024-01-03T14:28:09.487884Z",
     "shell.execute_reply": "2024-01-03T14:28:09.486592Z",
     "shell.execute_reply.started": "2024-01-03T14:28:09.472539Z"
    }
   },
   "outputs": [],
   "source": [
    "import torch\n",
    "import torch.nn as nn\n",
    "from torch import cat\n",
    "import torch.nn.init as init\n",
    "\n",
    "#https://github.com/bbrattoli/JigsawPuzzlePytorch/blob/master/JigsawNetwork.py\n",
    "\n",
    "class Network(nn.Module):\n",
    "\n",
    "    def __init__(self, classes=64):\n",
    "        super(Network, self).__init__()\n",
    "\n",
    "        self.conv = timm.create_model('efficientnet_b0', pretrained=False)  # Set pretrained to False\n",
    "        self.conv = nn.Sequential(*(list(self.conv.children())[:-1]))\n",
    "        \n",
    "        self.fc6 = nn.Sequential()\n",
    "        self.fc6.add_module('fc6_s1',nn.Linear(1280, 1024)) #256*3*3\n",
    "        self.fc6.add_module('relu6_s1',nn.ReLU(inplace=True))\n",
    "        self.fc6.add_module('drop6_s1',nn.Dropout(p=0.5))\n",
    "\n",
    "        self.fc7 = nn.Sequential()\n",
    "        self.fc7.add_module('fc7',nn.Linear(9*1024,4096))\n",
    "        self.fc7.add_module('relu7',nn.ReLU(inplace=True))\n",
    "        self.fc7.add_module('drop7',nn.Dropout(p=0.5))\n",
    "\n",
    "        self.classifier = nn.Sequential()\n",
    "        self.classifier.add_module('fc8',nn.Linear(4096, classes))\n",
    "        \n",
    "        #self.apply(weights_init)\n",
    "\n",
    "    def load(self,checkpoint):\n",
    "        model_dict = torch.load(checkpoint)\n",
    "        self.load_state_dict(model_dict)\n",
    "\n",
    "    def save(self,checkpoint):\n",
    "        torch.save(self.state_dict(), checkpoint)\n",
    "        \n",
    "    def save_conv(self,checkpoint):                    \n",
    "        torch.save(self.conv.state_dict(), checkpoint)   #to save only the convolutional weights\n",
    "    \n",
    "    def forward(self, x):\n",
    "        B,T,C,H,W = x.size()\n",
    "        x = x.transpose(0,1)\n",
    "\n",
    "        x_list = []\n",
    "        for i in range(9):\n",
    "            z = self.conv(x[i])\n",
    "            z = self.fc6(z.view(B,-1))\n",
    "            z = z.view([B,1,-1])\n",
    "            x_list.append(z)\n",
    "\n",
    "        x = cat(x_list,1)\n",
    "        x = self.fc7(x.view(B,-1))\n",
    "        x = self.classifier(x)\n",
    "\n",
    "        return x\n"
   ]
  },
  {
   "cell_type": "code",
   "execution_count": 14,
   "metadata": {
    "execution": {
     "iopub.execute_input": "2024-01-03T16:08:09.285939Z",
     "iopub.status.busy": "2024-01-03T16:08:09.285195Z",
     "iopub.status.idle": "2024-01-03T16:08:09.413314Z",
     "shell.execute_reply": "2024-01-03T16:08:09.412024Z",
     "shell.execute_reply.started": "2024-01-03T16:08:09.285908Z"
    }
   },
   "outputs": [],
   "source": [
    "CFN = Network()\n",
    "#CFN.load_state_dict(torch.load(cfn_file))"
   ]
  },
  {
   "cell_type": "code",
   "execution_count": 15,
   "metadata": {
    "execution": {
     "iopub.execute_input": "2024-01-03T16:08:48.684645Z",
     "iopub.status.busy": "2024-01-03T16:08:48.683853Z",
     "iopub.status.idle": "2024-01-03T18:24:40.227202Z",
     "shell.execute_reply": "2024-01-03T18:24:40.226212Z",
     "shell.execute_reply.started": "2024-01-03T16:08:48.684607Z"
    }
   },
   "outputs": [
    {
     "name": "stdout",
     "output_type": "stream",
     "text": [
      "Finished Training\n"
     ]
    }
   ],
   "source": [
    "#pretraining\n",
    "\n",
    "import torch.optim as optim\n",
    "from tqdm import tqdm\n",
    "\n",
    "\n",
    "CFN.to(device)\n",
    "\n",
    "loss_fn = nn.CrossEntropyLoss()\n",
    "optimizer = optim.SGD(CFN.parameters(), lr=0.001, momentum=0.9)\n",
    "\n",
    "\n",
    "\n",
    "for epoch in range(0):  # loop over the dataset multiple times\n",
    "    loop = tqdm(pretrain_loader)  \n",
    "    running_loss = 0.0\n",
    "    for i, data in enumerate(loop):\n",
    "        # get the inputs; data is a list of [inputs, labels]\n",
    "        images, labels = data\n",
    "        images = images.to(device)\n",
    "        labels = labels.to(device)\n",
    "        # zero the parameter gradients\n",
    "        optimizer.zero_grad()\n",
    "        \n",
    "        # forward + backward + optimize\n",
    "        outputs = CFN(images)\n",
    "        loss = loss_fn(outputs, labels)\n",
    "        loss.backward()\n",
    "        optimizer.step()\n",
    "\n",
    "        # print statistics\n",
    "#         running_loss += loss.item()\n",
    "        #if i % 200 == 199:    # print every 2000 mini-batches\n",
    "#         print(f'[{epoch + 1}, {i + 1:5d}] loss: {running_loss / 2000:.3f}')\n",
    "#         running_loss = 0.0\n",
    "        loop.set_postfix(loss=loss.item())\n",
    "\n",
    "print('Finished Training')\n",
    "\n"
   ]
  },
  {
   "cell_type": "markdown",
   "metadata": {},
   "source": [
    "# Training"
   ]
  },
  {
   "cell_type": "code",
   "execution_count": 16,
   "metadata": {},
   "outputs": [],
   "source": [
    "# add toTensor transform\n",
    "\n",
    "class TransformedDataset(torch.utils.data.Dataset):\n",
    "    def __init__(self, original_dataset, transform=None):\n",
    "        self.original_dataset = original_dataset\n",
    "        self.transform = transform\n",
    "\n",
    "    def __getitem__(self, index):\n",
    "        img, target = self.original_dataset[index]\n",
    "\n",
    "        if self.transform:\n",
    "            img = self.transform(img)\n",
    "\n",
    "        return img, target\n",
    "\n",
    "    def __len__(self):\n",
    "        return len(self.original_dataset)\n",
    "\n",
    "transform = transforms.Compose([\n",
    "    transforms.ToTensor(),\n",
    "])\n",
    "\n",
    "train_dataset = TransformedDataset(train_dataset, transform= transform)\n",
    "test_dataset = TransformedDataset(test_dataset, transform= transform)\n",
    "\n",
    "test_loader = DataLoader(test_dataset, batch_size = 128, shuffle = True)\n",
    "train_loader = DataLoader(train_dataset, batch_size = 256, shuffle = True)\n"
   ]
  },
  {
   "cell_type": "code",
   "execution_count": 17,
   "metadata": {},
   "outputs": [],
   "source": [
    "def train_model(model, train_loader, criterion, optimizer, num_epochs=10, device='cuda'):\n",
    "    \"\"\"\n",
    "    Function to train a PyTorch model.\n",
    "\n",
    "    Parameters:\n",
    "        - model: The PyTorch model to be trained.\n",
    "        - train_loader: DataLoader for the training dataset.\n",
    "        - criterion: Loss function.\n",
    "        - optimizer: Optimization algorithm.\n",
    "        - num_epochs: Number of training epochs.\n",
    "        - device: Device to use ('cuda' or 'cpu').\n",
    "\n",
    "    Returns:\n",
    "        - model: Trained PyTorch model.\n",
    "    \"\"\"\n",
    "    model.to(device)\n",
    "\n",
    "    # Training loop\n",
    "    for epoch in range(num_epochs):\n",
    "        model.train()  # Set the model to training mode\n",
    "\n",
    "        running_loss = 0.0\n",
    "        correct_predictions = 0\n",
    "        total_samples = 0\n",
    "\n",
    "        for inputs, labels in train_loader:\n",
    "            inputs, labels = inputs.to(device), labels.to(device)\n",
    "\n",
    "\n",
    "            optimizer.zero_grad()\n",
    "            outputs = model(inputs)\n",
    "            loss = criterion(outputs, labels)\n",
    "\n",
    "            # Backward pass and optimization\n",
    "            loss.backward()\n",
    "            optimizer.step()\n",
    "\n",
    "            # Update statistics\n",
    "            running_loss += loss.item()\n",
    "            _, predicted = torch.max(outputs.data, 1)\n",
    "            total_samples += labels.size(0)\n",
    "            correct_predictions += (predicted == labels).sum().item()\n",
    "\n",
    "        # Print statistics \n",
    "        epoch_loss = running_loss / len(train_loader)\n",
    "        epoch_accuracy = correct_predictions / total_samples\n",
    "        \n",
    "        if epoch % 5 == 0:\n",
    "            print(f'Epoch {epoch}/{num_epochs}, Loss: {epoch_loss:.4f}, Accuracy: {epoch_accuracy * 100:.2f}%')\n",
    "    print(f'Epoch {epoch + 1}/{num_epochs}, Loss: {epoch_loss:.4f}, Accuracy: {epoch_accuracy * 100:.2f}%')\n",
    "    return model\n",
    "\n",
    "\n",
    "def validate_model(model, val_loader, criterion, device='cuda'):\n",
    "    \"\"\"\n",
    "    Function to perform validation on a PyTorch model.\n",
    "\n",
    "    Parameters:\n",
    "        - model: The PyTorch model to be validated.\n",
    "        - val_loader: DataLoader for the validation dataset.\n",
    "        - criterion: Loss function.\n",
    "        - device: Device to use ('cuda' or 'cpu').\n",
    "\n",
    "    Returns:\n",
    "        - accuracy: Accuracy on the validation dataset.\n",
    "        - average_loss: Average loss on the validation dataset.\n",
    "    \"\"\"\n",
    "\n",
    "    model.eval()  # Set the model to evaluation mode\n",
    "    running_loss = 0.0\n",
    "    correct_predictions = 0\n",
    "    total_samples = 0\n",
    "\n",
    "    with torch.no_grad():\n",
    "        for inputs, labels in val_loader:\n",
    "            inputs, labels = inputs.to(device), labels.to(device)\n",
    "\n",
    "            # Forward pass\n",
    "            outputs = model(inputs)\n",
    "\n",
    "            # Compute loss\n",
    "            loss = criterion(outputs, labels)\n",
    "\n",
    "            # Update statistics\n",
    "            running_loss += loss.item()\n",
    "            _, predicted = torch.max(outputs.data, 1)\n",
    "            total_samples += labels.size(0)\n",
    "            correct_predictions += (predicted == labels).sum().item()\n",
    "\n",
    "    # Calculate accuracy and average loss\n",
    "    accuracy = correct_predictions / total_samples\n",
    "    average_loss = running_loss / len(val_loader)\n",
    "\n",
    "    print(f'Validation Accuracy: {accuracy * 100:.2f}%, Average Loss: {average_loss:.4f}')\n",
    "\n",
    "    return accuracy, average_loss\n"
   ]
  },
  {
   "cell_type": "markdown",
   "metadata": {},
   "source": [
    "## Using Imagnet Weights"
   ]
  },
  {
   "cell_type": "code",
   "execution_count": 18,
   "metadata": {},
   "outputs": [
    {
     "name": "stdout",
     "output_type": "stream",
     "text": [
      "Epoch 0/50, Loss: 2.2831, Accuracy: 15.37%\n",
      "Epoch 5/50, Loss: 1.5389, Accuracy: 49.90%\n",
      "Epoch 10/50, Loss: 1.3351, Accuracy: 59.07%\n",
      "Epoch 15/50, Loss: 1.1998, Accuracy: 62.20%\n",
      "Epoch 20/50, Loss: 1.1209, Accuracy: 65.53%\n",
      "Epoch 25/50, Loss: 1.0503, Accuracy: 67.93%\n",
      "Epoch 30/50, Loss: 0.9974, Accuracy: 69.80%\n",
      "Epoch 35/50, Loss: 0.9745, Accuracy: 69.20%\n",
      "Epoch 40/50, Loss: 0.9331, Accuracy: 70.70%\n",
      "Epoch 45/50, Loss: 0.9016, Accuracy: 71.87%\n",
      "Epoch 50/50, Loss: 0.9185, Accuracy: 70.90%\n",
      "Validation Accuracy: 30.53%, Average Loss: 2.2972\n"
     ]
    }
   ],
   "source": [
    "Imagenet_model = timm.create_model('efficientnet_b0', pretrained=True)      #default EffecientNet weights trained on Imagenet data \n",
    "\n",
    "# Modify the last fully connected layer for CIFAR-10 (10 classes)\n",
    "num_classes = 10\n",
    "Imagenet_model.classifier = nn.Linear(Imagenet_model.classifier.in_features, num_classes)\n",
    "\n",
    "\n",
    "criterion = nn.CrossEntropyLoss()\n",
    "optimizer = optim.Adam(Imagenet_model.classifier.parameters(), lr=0.001, weight_decay = 0.001)\n",
    "\n",
    "Imagenet_model = train_model(Imagenet_model, train_loader, criterion, optimizer, num_epochs = 50)\n",
    "accuracy, average_loss =  validate_model(Imagenet_model, test_loader, criterion)"
   ]
  },
  {
   "cell_type": "markdown",
   "metadata": {},
   "source": [
    "## Using Jigsaw Weights"
   ]
  },
  {
   "cell_type": "code",
   "execution_count": 19,
   "metadata": {},
   "outputs": [
    {
     "name": "stdout",
     "output_type": "stream",
     "text": [
      "Epoch 0/50, Loss: 2.2842, Accuracy: 14.07%\n",
      "Epoch 5/50, Loss: 2.1159, Accuracy: 23.93%\n",
      "Epoch 10/50, Loss: 2.0596, Accuracy: 27.27%\n",
      "Epoch 15/50, Loss: 2.0355, Accuracy: 28.37%\n",
      "Epoch 20/50, Loss: 2.0294, Accuracy: 28.60%\n",
      "Epoch 25/50, Loss: 1.9971, Accuracy: 30.37%\n",
      "Epoch 30/50, Loss: 1.9808, Accuracy: 30.10%\n",
      "Epoch 35/50, Loss: 1.9454, Accuracy: 32.97%\n",
      "Epoch 40/50, Loss: 1.9665, Accuracy: 31.73%\n",
      "Epoch 45/50, Loss: 1.9519, Accuracy: 32.67%\n",
      "Epoch 50/50, Loss: 1.9604, Accuracy: 30.87%\n",
      "Validation Accuracy: 20.87%, Average Loss: 2.2634\n"
     ]
    }
   ],
   "source": [
    "Jigsaw_model = timm.create_model('efficientnet_b0', pretrained=False)  # Set pretrained to False\n",
    "in_features = Jigsaw_model.classifier.in_features\n",
    "Jigsaw_model = nn.Sequential(*(list(Jigsaw_model.children())[:-1]))\n",
    "\n",
    "checkpoint = torch.load(conv_file)\n",
    "Jigsaw_model.load_state_dict(checkpoint)\n",
    "\n",
    "# Modify the classifier for your custom dataset\n",
    "num_classes = 10\n",
    "Jigsaw_model.add_module('classifier' , nn.Linear(in_features, num_classes))\n",
    "\n",
    "\n",
    "# Optional: Fine-tune the model on your custom dataset\n",
    "criterion = nn.CrossEntropyLoss()\n",
    "optimizer = optim.Adam(Jigsaw_model.classifier.parameters(), lr=0.001, weight_decay = 0.001)\n",
    "\n",
    "\n",
    "Jigsaw_model = train_model(Jigsaw_model, train_loader, criterion, optimizer, num_epochs = 50)\n",
    "accuracy, average_loss =  validate_model(Jigsaw_model, test_loader, criterion)"
   ]
  },
  {
   "cell_type": "code",
   "execution_count": null,
   "metadata": {},
   "outputs": [],
   "source": []
  }
 ],
 "metadata": {
  "kaggle": {
   "accelerator": "gpu",
   "dataSources": [
    {
     "datasetId": 4251257,
     "sourceId": 7324753,
     "sourceType": "datasetVersion"
    }
   ],
   "dockerImageVersionId": 30627,
   "isGpuEnabled": true,
   "isInternetEnabled": true,
   "language": "python",
   "sourceType": "notebook"
  },
  "kernelspec": {
   "display_name": "neural_ODE",
   "language": "python",
   "name": "neural_ode"
  },
  "language_info": {
   "codemirror_mode": {
    "name": "ipython",
    "version": 3
   },
   "file_extension": ".py",
   "mimetype": "text/x-python",
   "name": "python",
   "nbconvert_exporter": "python",
   "pygments_lexer": "ipython3",
   "version": "3.10.13"
  }
 },
 "nbformat": 4,
 "nbformat_minor": 4
}
